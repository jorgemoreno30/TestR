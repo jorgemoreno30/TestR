{
 "cells": [
  {
   "cell_type": "markdown",
   "metadata": {},
   "source": [
    "<center>\n",
    "    <img src=\"https://cf-courses-data.s3.us.cloud-object-storage.appdomain.cloud/IBMDeveloperSkillsNetwork-DS0105EN-SkillsNetwork/labs/Module2/images/SN_web_lightmode.png\" width=\"300\" alt=\"cognitiveclass.ai logo\">\n",
    "</center>\n"
   ]
  },
  {
   "cell_type": "markdown",
   "metadata": {},
   "source": [
    "#### Add your code below following the instructions given in the course\n"
   ]
  },
  {
   "cell_type": "markdown",
   "metadata": {},
   "source": [
    "# Proyecto Final - Herramientas y Ecosistema de Ciencia de Datos"
   ]
  },
  {
   "cell_type": "markdown",
   "metadata": {},
   "source": [
    "## Introducción\n",
    "\n",
    "En este cuaderno se resumen herramientas, bibliotecas y lenguajes importantes en el campo de la ciencia de datos. También realizaremos algunas operaciones aritméticas simples usando Python.\n"
   ]
  },
  {
   "cell_type": "markdown",
   "metadata": {},
   "source": [
    "## Lenguajes de Ciencia de Datos\n",
    "\n",
    "A continuación, se enumeran algunos de los lenguajes más populares utilizados por los científicos de datos:\n",
    "\n",
    "1. Python  \n",
    "2. R  \n",
    "3. SQL  \n",
    "4. Julia  \n",
    "5. Scala\n"
   ]
  },
  {
   "cell_type": "markdown",
   "metadata": {},
   "source": [
    "## Bibliotecas de Ciencia de Datos\n",
    "\n",
    "Estas son algunas de las bibliotecas más utilizadas por los científicos de datos:\n",
    "\n",
    "1. Pandas  \n",
    "2. NumPy  \n",
    "3. Matplotlib  \n",
    "4. Scikit-learn  \n",
    "5. TensorFlow\n"
   ]
  },
  {
   "cell_type": "markdown",
   "metadata": {},
   "source": [
    "## Herramientas de Ciencia de Datos\n",
    "\n",
    "| Herramienta        | Tipo                |\n",
    "|--------------------|---------------------|\n",
    "| Jupyter Notebook   | IDE                 |\n",
    "| RStudio            | IDE                 |\n",
    "| Apache Spark       | Big Data            |\n",
    "| Tableau            | Visualización       |\n",
    "| GitHub             | Control de versiones|\n"
   ]
  },
  {
   "cell_type": "markdown",
   "metadata": {},
   "source": [
    "## Ejemplos de Expresiones Aritméticas\n",
    "\n",
    "Las expresiones aritméticas son fundamentales en matemáticas y programación, y permiten realizar operaciones con números, como sumas, restas, multiplicaciones y divisiones. A continuación se muestran algunos ejemplos de expresiones aritméticas:\n",
    "\n",
    "1. `3 + 5` resulta en `8`\n",
    "2. `10 - 2` resulta en `8`\n",
    "3. `4 * 6` resulta en `24`\n",
    "4. `20 / 5` resulta en `4`\n"
   ]
  },
  {
   "cell_type": "markdown",
   "metadata": {},
   "source": [
    "# Ejemplo de multiplicación y suma de números\n",
    "\n",
    "# Definimos los números\n",
    "num1 = 5\n",
    "num2 = 3\n",
    "num3 = 7\n",
    "\n",
    "# Multiplicación\n",
    "producto = num1 * num2\n",
    "print(\"El producto de\", num1, \"y\", num2, \"es:\", producto)\n",
    "\n",
    "# Suma\n",
    "suma = num1 + num3\n",
    "print(\"La suma de\", num1, \"y\", num3, \"es:\", suma)\n"
   ]
  },
  {
   "cell_type": "markdown",
   "metadata": {},
   "source": [
    "# Conversión de minutos a horas\n",
    "\n",
    "minutos = 135\n",
    "horas = minutos / 60\n",
    "\n",
    "print(minutos, \"minutos equivalen a\", horas, \"horas\")\n"
   ]
  },
  {
   "cell_type": "markdown",
   "metadata": {},
   "source": [
    "## En este curso, aprenderás los siguientes objetivos clave:\n",
    "\n",
    "- Comprender los fundamentos de Python\n",
    "- Manipular datos con estructuras como listas y diccionarios\n",
    "- Usar funciones para organizar el código\n",
    "- Realizar operaciones matemáticas básicas\n",
    "- Aplicar lógica condicional y bucles"
   ]
  },
  {
   "cell_type": "markdown",
   "metadata": {},
   "source": [
    "**Autor:** Jorge Moreno"
   ]
  },
  {
   "cell_type": "code",
   "execution_count": null,
   "metadata": {},
   "outputs": [],
   "source": []
  }
 ],
 "metadata": {
  "kernelspec": {
   "display_name": "Python 3 (ipykernel)",
   "language": "python",
   "name": "python3"
  },
  "language_info": {
   "codemirror_mode": {
    "name": "ipython",
    "version": 3
   },
   "file_extension": ".py",
   "mimetype": "text/x-python",
   "name": "python",
   "nbconvert_exporter": "python",
   "pygments_lexer": "ipython3",
   "version": "3.12.8"
  }
 },
 "nbformat": 4,
 "nbformat_minor": 4
}
